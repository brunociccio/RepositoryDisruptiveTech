{
 "cells": [
  {
   "cell_type": "code",
   "execution_count": 1,
   "metadata": {},
   "outputs": [
    {
     "name": "stdout",
     "output_type": "stream",
     "text": [
      "Downloading data from https://storage.googleapis.com/tensorflow/keras-applications/vgg16/vgg16_weights_tf_dim_ordering_tf_kernels.h5\n",
      "\u001b[1m553467096/553467096\u001b[0m \u001b[32m━━━━━━━━━━━━━━━━━━━━\u001b[0m\u001b[37m\u001b[0m \u001b[1m334s\u001b[0m 1us/step\n",
      "\u001b[1m1/1\u001b[0m \u001b[32m━━━━━━━━━━━━━━━━━━━━\u001b[0m\u001b[37m\u001b[0m \u001b[1m0s\u001b[0m 314ms/step\n",
      "Predicted: [('n01491361', 'tiger_shark', 0.8450445), ('n01484850', 'great_white_shark', 0.082564026), ('n01494475', 'hammerhead', 0.028573882)]\n"
     ]
    }
   ],
   "source": [
    "from keras.applications.vgg16 import VGG16\n",
    "from keras.applications.vgg16 import preprocess_input, decode_predictions\n",
    "from keras.preprocessing import image\n",
    "import numpy as np\n",
    "\n",
    "# Carrega o modelo VGG16 pré-treinado com pesos do ImageNet\n",
    "model = VGG16(weights='imagenet')\n",
    "\n",
    "# Caminho para a imagem de entrada\n",
    "img_path = './animal-maritimo-2.jpg'  # Caminho da sua imagem\n",
    "\n",
    "# Carrega a imagem e a redimensiona para 224x224 pixels\n",
    "img = image.load_img(img_path, target_size=(224, 224))\n",
    "\n",
    "# Converte a imagem para um array de numpy\n",
    "x = image.img_to_array(img)\n",
    "\n",
    "# Expande as dimensões do array para que ele tenha a forma esperada pelo modelo (1, 224, 224, 3)\n",
    "x = np.expand_dims(x, axis=0)\n",
    "\n",
    "# Pré-processa a entrada para o modelo VGG16\n",
    "x = preprocess_input(x)\n",
    "\n",
    "# Predição\n",
    "preds = model.predict(x)\n",
    "\n",
    "# Decodifica e imprime os resultados\n",
    "print('Predicted:', decode_predictions(preds, top=3)[0])\n"
   ]
  }
 ],
 "metadata": {
  "kernelspec": {
   "display_name": "Python 3",
   "language": "python",
   "name": "python3"
  },
  "language_info": {
   "codemirror_mode": {
    "name": "ipython",
    "version": 3
   },
   "file_extension": ".py",
   "mimetype": "text/x-python",
   "name": "python",
   "nbconvert_exporter": "python",
   "pygments_lexer": "ipython3",
   "version": "3.11.9"
  }
 },
 "nbformat": 4,
 "nbformat_minor": 2
}
